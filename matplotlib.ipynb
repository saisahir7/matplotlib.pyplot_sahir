{
  "nbformat": 4,
  "nbformat_minor": 0,
  "metadata": {
    "colab": {
      "name": "matplotlib.ipynb",
      "provenance": [],
      "authorship_tag": "ABX9TyPxfRj2dNaZgMK1kPekSbKo",
      "include_colab_link": true
    },
    "kernelspec": {
      "name": "python3",
      "display_name": "Python 3"
    },
    "language_info": {
      "name": "python"
    }
  },
  "cells": [
    {
      "cell_type": "markdown",
      "metadata": {
        "id": "view-in-github",
        "colab_type": "text"
      },
      "source": [
        "<a href=\"https://colab.research.google.com/github/saisahir7/matplotlib.pyplot_sahir/blob/module-5/matplotlib.ipynb\" target=\"_parent\"><img src=\"https://colab.research.google.com/assets/colab-badge.svg\" alt=\"Open In Colab\"/></a>"
      ]
    },
    {
      "cell_type": "code",
      "execution_count": 1,
      "metadata": {
        "colab": {
          "base_uri": "https://localhost:8080/",
          "height": 265
        },
        "id": "7KrEx6Tx4q1x",
        "outputId": "90e70042-5fe2-4bae-844b-31137a8fec6f"
      },
      "outputs": [
        {
          "output_type": "display_data",
          "data": {
            "text/plain": [
              "<Figure size 432x288 with 1 Axes>"
            ],
            "image/png": "[encoded data removed]"
          },
          "metadata": {
            "needs_background": "light"
          }
        }
      ],
      "source": [
        "# plot graph\n",
        "import matplotlib.pyplot as plt\n",
        "import numpy as np\n",
        "x=np.array([1,7,5,3])\n",
        "y=np.array([5,10,8,1])\n",
        "plt.plot(x,y,ls=':',color='g')\n",
        "plt.show()"
      ]
    },
    {
      "cell_type": "code",
      "source": [
        "# plot a graph\n",
        "import matplotlib.pyplot as plt\n",
        "import numpy as np\n",
        "xpoints = np.array([0, 6])\n",
        "ypoints = np.array([0, 250])\n",
        "plt.plot(xpoints, ypoints)\n",
        "plt.show()\n"
      ],
      "metadata": {
        "colab": {
          "base_uri": "https://localhost:8080/",
          "height": 130
        },
        "id": "dD4orQX25O_H",
        "outputId": "6499bafc-1916-44d1-e67f-780e1d6f19c8"
      },
      "execution_count": 2,
      "outputs": [
        {
          "output_type": "error",
          "ename": "SyntaxError",
          "evalue": "ignored",
          "traceback": [
            "\u001b[0;36m  File \u001b[0;32m\"<ipython-input-2-5ae8bb284f7f>\"\u001b[0;36m, line \u001b[0;32m2\u001b[0m\n\u001b[0;31m    import matplotlib.pyplot as plt\u001b[0m\n\u001b[0m                    ^\u001b[0m\n\u001b[0;31mSyntaxError\u001b[0m\u001b[0;31m:\u001b[0m invalid character in identifier\n"
          ]
        }
      ]
    }
  ]
}